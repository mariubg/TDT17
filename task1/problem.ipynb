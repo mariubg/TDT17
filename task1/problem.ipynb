{
 "cells": [
  {
   "cell_type": "markdown",
   "metadata": {},
   "source": [
    "## Problem"
   ]
  },
  {
   "cell_type": "markdown",
   "metadata": {},
   "source": [
    "### Given:"
   ]
  },
  {
   "cell_type": "markdown",
   "metadata": {},
   "source": [
    "We have following architecture:\n",
    "\n",
    "![Architecture](architecture.png \"Architecture\")\n",
    "\n",
    "The input is $$X = \\begin{bmatrix}\n",
    "0 & 3 & -3 & 0 \\\\\n",
    "0 & 0 & 0 & 0 \\\\\n",
    "0 & 0 & 3 & 0 \\\\\n",
    "3 & 0 & 3 & 1 \\\\\n",
    "1 & -2 & 2 & -2 \\\\\n",
    "0 & 0 & -3 & 2\n",
    "\\end{bmatrix}$$\n",
    "\n",
    "The convolutional layer has the filter $F^C = \\begin{bmatrix}\n",
    "1 & 0 \\\\\n",
    "-1 & 0\n",
    "\\end{bmatrix}$ and bias $B^C = 1$. The padding is 0, and the stride is 2 in the vertical direction, and 1 in the horisontal.\n",
    "\n",
    "The self-attention layer has three weight matrices creating queries, keys and values:\n",
    "$$W^Q =\\begin{bmatrix}\n",
    "1 & -2 & 0 \\\\\n",
    "0 & 2 & -1 \\\\\n",
    "3 & -4 & 0 \\\\\n",
    "\\end{bmatrix},\n",
    "W^K = \\begin{bmatrix}\n",
    "1 & -2 & 3 \\\\\n",
    "0 & 1 & 0 \\\\\n",
    "2 & 2 & -1 \\\\\n",
    "\\end{bmatrix},\n",
    "W^V = \\begin{bmatrix}\n",
    "3 & 1 & 2 \\\\\n",
    "-1 & 1 & -1 \\\\\n",
    "0 & 0 & 0 \\\\\n",
    "\\end{bmatrix}\n",
    "$$\n",
    "\n",
    "The FCNN has the weights $W^D = [1,  1, 0,2,-3,4,0,1,-1]$ and the bias $B^D = -1$.\n",
    "\n",
    "The target is $y = 1$, and the loss function is $C = \\frac{1}{N} * \\sum_{n=1}^{N} (y_i-\\hat{y_i})^2$, or MSE. The learning rate is $\\alpha = 0.1$"
   ]
  }
 ],
 "metadata": {
  "language_info": {
   "name": "python"
  }
 },
 "nbformat": 4,
 "nbformat_minor": 2
}
